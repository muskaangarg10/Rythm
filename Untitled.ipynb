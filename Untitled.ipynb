{
 "cells": [
  {
   "cell_type": "code",
   "execution_count": 1,
   "id": "d239fab1",
   "metadata": {},
   "outputs": [],
   "source": [
    "import numpy as np\n",
    "import pandas as pd\n",
    "import json"
   ]
  },
  {
   "cell_type": "code",
   "execution_count": 2,
   "id": "1bc77c19",
   "metadata": {},
   "outputs": [],
   "source": [
    "dataa=pd.read_csv('top50new.csv')"
   ]
  },
  {
   "cell_type": "code",
   "execution_count": 3,
   "id": "2517a35c",
   "metadata": {},
   "outputs": [],
   "source": [
    "genres_of_songs=[dataa.loc[i]['Genre'].split('|') for i in dataa.index]"
   ]
  },
  {
   "cell_type": "code",
   "execution_count": 4,
   "id": "1f874eb4",
   "metadata": {},
   "outputs": [],
   "source": [
    "genres=sorted(list(set(item for sublist in genres_of_songs for item in sublist)))"
   ]
  },
  {
   "cell_type": "code",
   "execution_count": 5,
   "id": "c7f9d73d",
   "metadata": {},
   "outputs": [
    {
     "data": {
      "text/plain": [
       "['Sufi',\n",
       " 'dance',\n",
       " 'dark',\n",
       " 'happy',\n",
       " 'hip hop',\n",
       " 'motivational',\n",
       " 'party',\n",
       " 'pop',\n",
       " 'rap',\n",
       " 'rock',\n",
       " 'romantic',\n",
       " 'sad',\n",
       " 'slow']"
      ]
     },
     "execution_count": 5,
     "metadata": {},
     "output_type": "execute_result"
    }
   ],
   "source": [
    "Genre=genres\n",
    "Genre"
   ]
  },
  {
   "cell_type": "code",
   "execution_count": 6,
   "id": "9d453b39",
   "metadata": {},
   "outputs": [],
   "source": [
    "full_data = list()\n",
    "song_titles = list()"
   ]
  },
  {
   "cell_type": "code",
   "execution_count": 7,
   "id": "21fd3377",
   "metadata": {},
   "outputs": [],
   "source": [
    "for i in dataa.index:\n",
    "    song_titles.append((dataa.loc[i]['TrackName'].strip(), i, dataa.loc[i]['link'].strip()))\n",
    "    song_data = [1 if genre in dataa.loc[i]['Genre'].split('|') else 0 for genre in Genre]\n",
    "    full_data.append(song_data)"
   ]
  },
  {
   "cell_type": "code",
   "execution_count": 8,
   "id": "fea5906f",
   "metadata": {},
   "outputs": [],
   "source": [
    "data_dump = r'data.json'\n",
    "titles_dump = r'titles.json'\n",
    "with open(data_dump, 'w+', encoding='utf-8') as f:\n",
    "    json.dump(full_data, f)\n",
    "with open(titles_dump, 'w+', encoding='utf-8') as f:\n",
    "    json.dump(song_titles, f)"
   ]
  },
  {
   "cell_type": "code",
   "execution_count": null,
   "id": "365676ec",
   "metadata": {},
   "outputs": [],
   "source": []
  }
 ],
 "metadata": {
  "kernelspec": {
   "display_name": "Python 3 (ipykernel)",
   "language": "python",
   "name": "python3"
  },
  "language_info": {
   "codemirror_mode": {
    "name": "ipython",
    "version": 3
   },
   "file_extension": ".py",
   "mimetype": "text/x-python",
   "name": "python",
   "nbconvert_exporter": "python",
   "pygments_lexer": "ipython3",
   "version": "3.9.7"
  }
 },
 "nbformat": 4,
 "nbformat_minor": 5
}
